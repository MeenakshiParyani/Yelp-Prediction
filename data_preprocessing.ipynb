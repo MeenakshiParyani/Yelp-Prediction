{
 "cells": [
  {
   "cell_type": "code",
   "execution_count": 25,
   "metadata": {
    "collapsed": true
   },
   "outputs": [],
   "source": [
    "import sys\n",
    "import json\n",
    "import csv\n",
    "import numpy as np\n",
    "from pandas.io.json import json_normalize"
   ]
  },
  {
   "cell_type": "code",
   "execution_count": 26,
   "metadata": {},
   "outputs": [],
   "source": [
    "businessjson = 'dataset/business.json'\n",
    "checkinjson = 'dataset/checkin.json'\n",
    "\n",
    "# Load Business data\n",
    "business_json_lines = [json.loads( l.strip() ) for l in open(businessjson).readlines() ]\n",
    "df = json_normalize(business_json_lines)\n"
   ]
  },
  {
   "cell_type": "code",
   "execution_count": 46,
   "metadata": {},
   "outputs": [
    {
     "name": "stdout",
     "output_type": "stream",
     "text": [
      "object\n",
      "0    37140\n",
      "1    14485\n",
      "Name: target, dtype: int64\n"
     ]
    }
   ],
   "source": [
    "# Get records from Yelp set for only restaurants\n",
    "df = df[df['categories'].astype(str).str.lower().str.contains('restaurant') == True]\n",
    "df = df.reset_index(drop=True)\n",
    "\n",
    "# Classify the records\n",
    "df['target'] = [1 if df['stars'][x] >= 3.5 and df['review_count'][x] >= 30 else 0 for x in range(len(df))]\n",
    "df.to_csv('business_csv_filter.csv', encoding='utf-8', index=False)\n",
    "print df['target'].value_counts()"
   ]
  }
 ],
 "metadata": {
  "kernelspec": {
   "display_name": "Python 2",
   "language": "python",
   "name": "python2"
  },
  "language_info": {
   "codemirror_mode": {
    "name": "ipython",
    "version": 2
   },
   "file_extension": ".py",
   "mimetype": "text/x-python",
   "name": "python",
   "nbconvert_exporter": "python",
   "pygments_lexer": "ipython2",
   "version": "2.7.13"
  }
 },
 "nbformat": 4,
 "nbformat_minor": 2
}
