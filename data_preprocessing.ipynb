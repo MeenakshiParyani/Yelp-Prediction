{
 "cells": [
  {
   "cell_type": "code",
   "execution_count": 1,
   "metadata": {
    "collapsed": true
   },
   "outputs": [],
   "source": [
    "import sys\n",
    "import json\n",
    "import csv\n",
    "import numpy as np\n",
    "import pandas as pd\n",
    "from pandas.io.json import json_normalize\n",
    "from collections import Counter\n",
    "from sklearn.base import TransformerMixin"
   ]
  },
  {
   "cell_type": "code",
   "execution_count": 2,
   "metadata": {
    "collapsed": true
   },
   "outputs": [],
   "source": [
    "businessjson = 'dataset/business.json'\n",
    "checkinjson = 'dataset/checkin.json'\n",
    "\n",
    "# Load Business data\n",
    "business_json_lines = [json.loads( l.strip() ) for l in open(businessjson).readlines() ]\n",
    "df = json_normalize(business_json_lines)\n"
   ]
  },
  {
   "cell_type": "code",
   "execution_count": 3,
   "metadata": {},
   "outputs": [
    {
     "name": "stdout",
     "output_type": "stream",
     "text": [
      "0    37140\n",
      "1    14485\n",
      "Name: target, dtype: int64\n"
     ]
    }
   ],
   "source": [
    "# Get records from Yelp set for only restaurants\n",
    "df = df[df['categories'].astype(str).str.lower().str.contains('restaurant') == True]\n",
    "df = df.reset_index(drop=True)\n",
    "\n",
    "#Remove Columns of least significance\n",
    "df = df.drop(['address','attributes.AcceptsInsurance','attributes.AgesAllowed','attributes.BYOB','attributes.ByAppointmentOnly','attributes.Corkage','attributes.DietaryRestrictions.dairy-free','attributes.DietaryRestrictions.gluten-free','attributes.DietaryRestrictions.halal','attributes.DietaryRestrictions.kosher','attributes.DietaryRestrictions.soy-free','attributes.DietaryRestrictions.vegan','attributes.DietaryRestrictions.vegetarian','attributes.HairSpecializesIn.africanamerican','attributes.HairSpecializesIn.asian','attributes.HairSpecializesIn.coloring','attributes.HairSpecializesIn.curly','attributes.HairSpecializesIn.extensions','attributes.HairSpecializesIn.kids','attributes.HairSpecializesIn.perms','attributes.HairSpecializesIn.straightperms','attributes.Open24Hours','attributes.RestaurantsCounterService','business_id','categories','hours.Friday','hours.Monday','hours.Saturday','hours.Sunday','hours.Thursday','hours.Tuesday','hours.Wednesday','latitude','longitude','name','neighborhood','state'],axis=1)\n",
    "\n",
    "# Classify the records\n",
    "df['target'] = [1 if df['stars'][x] >= 3.5 and df['review_count'][x] >= 30 else 0 for x in range(len(df))]\n",
    "df.to_csv('business_csv_filter.csv', encoding='utf-8', index=False)\n",
    "print df['target'].value_counts()"
   ]
  },
  {
   "cell_type": "code",
   "execution_count": 17,
   "metadata": {},
   "outputs": [],
   "source": [
    "# for filling the missing values\n",
    "from sklearn.base import TransformerMixin\n",
    "\n",
    "class SeriesImputer(TransformerMixin):\n",
    "\n",
    "    def __init__(self):\n",
    "        \"\"\"Impute missing values.\n",
    "\n",
    "        If the Series is of dtype Object, then impute with the most frequent object.\n",
    "        If the Series is not of dtype Object, then impute with the mean.  \n",
    "\n",
    "        \"\"\"\n",
    "    def fit(self, X, y=None):\n",
    "        if   X.dtype == np.dtype('O'): self.fill = X.value_counts().index[0]\n",
    "        else                            : self.fill = X.mean()\n",
    "        return self\n",
    "\n",
    "    def transform(self, X, y=None):\n",
    "       return X.fillna(self.fill)\n"
   ]
  },
  {
   "cell_type": "code",
   "execution_count": 18,
   "metadata": {},
   "outputs": [
    {
     "name": "stdout",
     "output_type": "stream",
     "text": [
      "Counter({u'none': 29706, u'full_bar': 15853, u'beer_and_wine': 6066})\n"
     ]
    }
   ],
   "source": [
    "print Counter(df['attributes.Alcohol'])\n",
    "a  = SeriesImputer()   # Initialize the imputer\n",
    "a.fit(df['attributes.Alcohol'])              # Fit the imputer\n",
    "df['attributes.Alcohol'] = a.transform(df['attributes.Alcohol'])\n",
    "print Counter(df['attributes.Alcohol'])"
   ]
  },
  {
   "cell_type": "code",
   "execution_count": 19,
   "metadata": {},
   "outputs": [
    {
     "name": "stdout",
     "output_type": "stream",
     "text": [
      "Counter({False: 21694, True: 18166, nan: 11765})\n",
      "attributes.Ambience.casual  target\n",
      "False                       0         17820\n",
      "                            1          3874\n",
      "True                        0          7912\n",
      "                            1         10254\n",
      "dtype: int64\n"
     ]
    }
   ],
   "source": [
    "print Counter(df['attributes.Ambience.casual'])\n",
    "print df.groupby(['attributes.Ambience.casual','target']).size()\n"
   ]
  },
  {
   "cell_type": "code",
   "execution_count": 18,
   "metadata": {},
   "outputs": [
    {
     "name": "stdout",
     "output_type": "stream",
     "text": [
      "37140\n",
      "0        0\n",
      "1        0\n",
      "2        0\n",
      "3        0\n",
      "4        0\n",
      "5        0\n",
      "6        0\n",
      "7        0\n",
      "8        0\n",
      "9        0\n",
      "10       0\n",
      "11       0\n",
      "12       0\n",
      "13       0\n",
      "14       0\n",
      "15       0\n",
      "16       0\n",
      "17       0\n",
      "18       0\n",
      "19       0\n",
      "20       0\n",
      "21       0\n",
      "22       0\n",
      "23       0\n",
      "24       0\n",
      "25       0\n",
      "26       0\n",
      "27       0\n",
      "28       0\n",
      "29       0\n",
      "        ..\n",
      "37110    0\n",
      "37111    0\n",
      "37112    0\n",
      "37113    0\n",
      "37114    0\n",
      "37115    0\n",
      "37116    0\n",
      "37117    0\n",
      "37118    0\n",
      "37119    0\n",
      "37120    0\n",
      "37121    0\n",
      "37122    0\n",
      "37123    0\n",
      "37124    0\n",
      "37125    0\n",
      "37126    0\n",
      "37127    0\n",
      "37128    0\n",
      "37129    0\n",
      "37130    0\n",
      "37131    0\n",
      "37132    0\n",
      "37133    0\n",
      "37134    0\n",
      "37135    0\n",
      "37136    0\n",
      "37137    0\n",
      "37138    0\n",
      "37139    0\n",
      "Name: target, Length: 37140, dtype: int64\n"
     ]
    }
   ],
   "source": [
    "# Seggregting data to positive and negative buckets.\n",
    "#print df.loc[0]\n",
    "pos_bucket = df.loc[df['target'] == 1].reset_index(drop=True)\n",
    "neg_bucket = df.loc[df['target'] == 0].reset_index(drop=True)\n"
   ]
  },
  {
   "cell_type": "code",
   "execution_count": 25,
   "metadata": {},
   "outputs": [
    {
     "name": "stdout",
     "output_type": "stream",
     "text": [
      "Counter({u'full_bar': 6728, u'none': 5096, u'beer_and_wine': 2661})\n",
      "attributes.Alcohol  target\n",
      "beer_and_wine       1         2661\n",
      "full_bar            1         6728\n",
      "none                1         5096\n",
      "dtype: int64\n",
      "0\n",
      "0             full_bar\n",
      "1             full_bar\n",
      "2        beer_and_wine\n",
      "3                 none\n",
      "4             full_bar\n",
      "5             full_bar\n",
      "6        beer_and_wine\n",
      "7        beer_and_wine\n",
      "8             full_bar\n",
      "9                 none\n",
      "10                none\n",
      "11            full_bar\n",
      "12            full_bar\n",
      "13            full_bar\n",
      "14                none\n",
      "15            full_bar\n",
      "16       beer_and_wine\n",
      "17            full_bar\n",
      "18                none\n",
      "19            full_bar\n",
      "20                none\n",
      "21                none\n",
      "22            full_bar\n",
      "23            full_bar\n",
      "24                none\n",
      "25            full_bar\n",
      "26       beer_and_wine\n",
      "27            full_bar\n",
      "28            full_bar\n",
      "29            full_bar\n",
      "             ...      \n",
      "14455         full_bar\n",
      "14456    beer_and_wine\n",
      "14457             none\n",
      "14458         full_bar\n",
      "14459         full_bar\n",
      "14460         full_bar\n",
      "14461    beer_and_wine\n",
      "14462             none\n",
      "14463    beer_and_wine\n",
      "14464         full_bar\n",
      "14465         full_bar\n",
      "14466    beer_and_wine\n",
      "14467             none\n",
      "14468             none\n",
      "14469             none\n",
      "14470             none\n",
      "14471         full_bar\n",
      "14472             none\n",
      "14473         full_bar\n",
      "14474             none\n",
      "14475    beer_and_wine\n",
      "14476         full_bar\n",
      "14477             none\n",
      "14478         full_bar\n",
      "14479             none\n",
      "14480             none\n",
      "14481         full_bar\n",
      "14482             none\n",
      "14483         full_bar\n",
      "14484         full_bar\n",
      "Name: attributes.Alcohol, Length: 14485, dtype: object\n",
      "Counter({u'full_bar': 6728, u'none': 5096, u'beer_and_wine': 2661}) $\n",
      "attributes.Alcohol  target\n",
      "beer_and_wine       1         2661\n",
      "full_bar            1         6728\n",
      "none                1         5096\n",
      "dtype: int64 ^\n"
     ]
    }
   ],
   "source": [
    "print Counter(pos_bucket['attributes.Alcohol'])\n",
    "print pos_bucket.groupby(['attributes.Alcohol','target']).size()\n",
    "\n",
    "pos_bucket.loc[pos_bucket['attributes.Alcohol'].isnull(),'attributes.Alcohol'] = 'full_bar'\n",
    "\n",
    "print len(pos_bucket.loc[pos_bucket['attributes.Alcohol'].isnull(),'attributes.Alcohol'])\n",
    "\n",
    "print pos_bucket['attributes.Alcohol']\n",
    "print Counter(pos_bucket['attributes.Alcohol']),\"$\"\n",
    "print pos_bucket.groupby(['attributes.Alcohol','target']).size(),\"^\"\n"
   ]
  }
 ],
 "metadata": {
  "kernelspec": {
   "display_name": "Python 2",
   "language": "python",
   "name": "python2"
  },
  "language_info": {
   "codemirror_mode": {
    "name": "ipython",
    "version": 2
   },
   "file_extension": ".py",
   "mimetype": "text/x-python",
   "name": "python",
   "nbconvert_exporter": "python",
   "pygments_lexer": "ipython2",
   "version": "2.7.13"
  }
 },
 "nbformat": 4,
 "nbformat_minor": 2
}
