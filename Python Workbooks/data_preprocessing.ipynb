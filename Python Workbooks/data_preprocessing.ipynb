{
 "cells": [
  {
   "cell_type": "code",
   "execution_count": 44,
   "metadata": {},
   "outputs": [],
   "source": [
    "import sys\n",
    "import json\n",
    "import csv\n",
    "import numpy as np\n",
    "import pandas as pd\n",
    "from pandas.io.json import json_normalize\n",
    "from collections import Counter\n",
    "from scipy.sparse import *"
   ]
  },
  {
   "cell_type": "code",
   "execution_count": null,
   "metadata": {},
   "outputs": [],
   "source": [
    "businessjson = 'dataset/business.json'\n",
    "checkinjson = 'dataset/checkin.json'\n",
    "\n",
    "# Load Business data\n",
    "business_json_lines = [json.loads( l.strip() ) for l in open(businessjson).readlines() ]\n",
    "df = json_normalize(business_json_lines)\n",
    "\n"
   ]
  },
  {
   "cell_type": "code",
   "execution_count": null,
   "metadata": {},
   "outputs": [],
   "source": [
    "print df[0]"
   ]
  },
  {
   "cell_type": "code",
   "execution_count": null,
   "metadata": {},
   "outputs": [],
   "source": [
    "# Get records from Yelp set for only restaurants\n",
    "df = df[df['categories'].astype(str).str.lower().str.contains('restaurant') == True]\n",
    "df = df.reset_index(drop=True)\n",
    "\n",
    "#Remove Columns of least significance\n",
    "df = df.drop(['address','attributes.AcceptsInsurance','attributes.AgesAllowed','attributes.BYOB','attributes.ByAppointmentOnly','attributes.Corkage','attributes.DietaryRestrictions.dairy-free','attributes.DietaryRestrictions.gluten-free','attributes.DietaryRestrictions.halal','attributes.DietaryRestrictions.kosher','attributes.DietaryRestrictions.soy-free','attributes.DietaryRestrictions.vegan','attributes.DietaryRestrictions.vegetarian','attributes.HairSpecializesIn.africanamerican','attributes.HairSpecializesIn.asian','attributes.HairSpecializesIn.coloring','attributes.HairSpecializesIn.curly','attributes.HairSpecializesIn.extensions','attributes.HairSpecializesIn.kids','attributes.HairSpecializesIn.perms','attributes.HairSpecializesIn.straightperms','attributes.Open24Hours','attributes.RestaurantsCounterService','business_id','categories','hours.Friday','hours.Monday','hours.Saturday','hours.Sunday','hours.Thursday','hours.Tuesday','hours.Wednesday','latitude','longitude','name','neighborhood','state','city','postal_code'],axis=1)\n",
    "df_binary = df.copy()\n",
    "# Classify the records\n",
    "df_binary['target'] = [1 if df_binary['stars'][x] >= 3.5 and df_binary['review_count'][x] >= 30 else 0 for x in range(len(df_binary))]\n",
    "df_binary.to_csv('business_csv_filter.csv', encoding='utf-8', index=False)\n",
    "print df_binary['target'].value_counts()\n",
    "\n"
   ]
  },
  {
   "cell_type": "code",
   "execution_count": null,
   "metadata": {},
   "outputs": [],
   "source": [
    "headers = list(df.select_dtypes(include=['object']).columns.values)\n",
    "#print headers\n",
    "df = pd.get_dummies(data=df, columns=headers)\n",
    "df = df.fillna(0)\n",
    "\n",
    "\n",
    "print df.head(10)"
   ]
  },
  {
   "cell_type": "code",
   "execution_count": null,
   "metadata": {},
   "outputs": [],
   "source": [
    "df_multi_train = df.loc[0:41300]\n",
    "df_multi_train.to_csv('business_final_train.csv', encoding='utf-8', index=False)\n",
    "\n",
    "df_multi_test = df.loc[41300:]\n",
    "df_multi_test.to_csv('business_final_test.csv', encoding='utf-8', index=False)\n",
    "\n",
    "print df_multi_train['stars'].value_counts(),\"df_multi_train\"\n",
    "print df_multi_test['stars'].value_counts(),\"df_multi_train\""
   ]
  },
  {
   "cell_type": "code",
   "execution_count": null,
   "metadata": {},
   "outputs": [],
   "source": [
    "print \"rsgrg\""
   ]
  },
  {
   "cell_type": "code",
   "execution_count": 45,
   "metadata": {},
   "outputs": [
    {
     "name": "stdout",
     "output_type": "stream",
     "text": [
      "['2', '0', '0', '0', '0', '1', '0', '1', '0', '1', '0', '1', '0', '1', '0', '1', '0', '1', '0', '1', '0', '1', '0', '0', '0', '0', '0', '0', '0', '0', '0', '0', '0', '0', '0', '0', '0', '0', '0', '0', '0', '0', '0', '0', '1', '0', '0', '0', '0', '0', '0', '0', '0', '0', '0', '0', '0', '0', '0', '0', '0', '0', '0', '0', '0', '0', '0', '1', '1', '0', '1', '0', '1', '0', '1', '0', '1', '0', '1', '0', '0', '0', '1', '0', '0', '0', '0', '0', '0', '0', '0', '0', '0', '0', '0', '0', '0', '1', '0', '0', '0', '1', '0', '1', '0', '0', '0', '1', '0', '1', '1', '0', '0', '0', '0', '1', '0', '0', '0', '0', '0', '0', '0', '0', '4']\n"
     ]
    }
   ],
   "source": [
    "dataset = list()\n",
    "labels = list()\n",
    "\n",
    "import csv\n",
    "\n",
    "with open('business_multi_final_train.csv', 'r') as f:\n",
    "    reader = csv.reader(f)\n",
    "    your_list = list(reader)\n",
    "    for l in your_list:\n",
    "        dataset.append(l[0:-1])\n",
    "        labels.append(l[-1])\n",
    "print dataset[0]"
   ]
  },
  {
   "cell_type": "code",
   "execution_count": null,
   "metadata": {},
   "outputs": [],
   "source": [
    "# Seggregting data to positive and negative buckets.\n",
    "# Splitting train and test data for binary.\n",
    "pos_bucket = df_binary.loc[df_binary['target'] == 1].reset_index(drop=True)\n",
    "neg_bucket = df_binary.loc[df_binary['target'] == 0].reset_index(drop=True)\n",
    "\n",
    "df_pos_train = df_binary.loc[0:11588]\n",
    "df_pos_test = df_binary.loc[11588:]\n",
    "df_neg_train = df_binary.loc[0:11884]\n",
    "df_neg_test = df_binary.loc[11884:]\n",
    "\n",
    "print df_pos_train.shape[0],\"df_pos_train\"\n",
    "print df_pos_test.shape[0],\"df_pos_test\"\n",
    "print df_neg_train.shape[0],\"df_neg_train\"\n",
    "print df_neg_test.shape[0],\"df_neg_test\"\n",
    "\n",
    "\n",
    "df_train = pd.concat([df_pos_train, df_neg_train], axis=0)\n",
    "df_train = df_train.reset_index(drop=True)\n",
    "\n",
    "print df_train.shape[0],\"df_train\"\n",
    "\n",
    "df_test = pd.concat([df_pos_test, df_neg_test], axis=0)\n",
    "df_test = df_test.reset_index(drop=True)\n",
    "\n",
    "print df_test.shape[0],\"df_test\"\n",
    "print df_train.loc[0:1],\" df_train.loc_ahead\"\n",
    "print df_train.loc[12589],\" df_train.loc_behind\""
   ]
  },
  {
   "cell_type": "code",
   "execution_count": 46,
   "metadata": {},
   "outputs": [],
   "source": [
    "def build_matrix(lists):\n",
    "    \"\"\" \n",
    "            Build sparse matrix from a list of documents, \n",
    "            each of which is a list of word/terms in the document.  \n",
    "    \"\"\"\n",
    "\n",
    "\n",
    "    docs = []\n",
    "    for list in lists:\n",
    "        docs.append([int(n) if n != '' else 0 for n in list])\n",
    "    nrows = len(docs)\n",
    "    idx = {}\n",
    "    tid = 0\n",
    "    nnz = 0\n",
    "    for d in docs:\n",
    "        nnz += len(set(d))\n",
    "        for w in d:\n",
    "            if w not in idx:\n",
    "                idx[w] = tid\n",
    "                tid += 1\n",
    "    ncols = len(idx)\n",
    "\n",
    "\n",
    "    # set up memory\n",
    "    ind = np.zeros(nnz, dtype=np.int)\n",
    "    val = np.zeros(nnz, dtype=np.double)\n",
    "    ptr = np.zeros(nrows+1, dtype=np.int)\n",
    "    i = 0  # document ID / row counter\n",
    "    n = 0  # non-zero counter\n",
    "    # transfer values\n",
    "    for d in docs:\n",
    "        cnt = Counter(d)\n",
    "        keys = [k for k,_ in cnt.most_common()]\n",
    "        l = len(keys)\n",
    "        for j,k in enumerate(keys):\n",
    "            ind[j+n] = idx[k]\n",
    "            val[j+n] = cnt[k]\n",
    "        ptr[i+1] = ptr[i] + l\n",
    "        n += l\n",
    "        i += 1\n",
    "            \n",
    "    mat = csr_matrix((val, ind, ptr), shape=(nrows, ncols), dtype=np.double)\n",
    "    mat.sort_indices()\n",
    "    \n",
    "    return mat\n"
   ]
  },
  {
   "cell_type": "code",
   "execution_count": 47,
   "metadata": {},
   "outputs": [],
   "source": [
    "dataset_csr = build_matrix(dataset)"
   ]
  },
  {
   "cell_type": "code",
   "execution_count": 48,
   "metadata": {},
   "outputs": [],
   "source": [
    "def csr_l2normalize(mat, copy=False, **kargs):\n",
    "    r\"\"\" Normalize the rows of a CSR matrix by their L-2 norm. \n",
    "    If copy is True, returns a copy of the normalized matrix.\n",
    "    \"\"\"\n",
    "    if copy is True:\n",
    "        mat = mat.copy()\n",
    "    nrows = mat.shape[0]\n",
    "    nnz = mat.nnz\n",
    "    ind, val, ptr = mat.indices, mat.data, mat.indptr\n",
    "    # normalize\n",
    "    for i in range(nrows):\n",
    "        rsum = 0.0    \n",
    "        for j in range(ptr[i], ptr[i+1]):\n",
    "            rsum += val[j]**2\n",
    "        if rsum == 0.0:\n",
    "            continue  # do not normalize empty rows\n",
    "        rsum = 1.0/np.sqrt(rsum)\n",
    "        for j in range(ptr[i], ptr[i+1]):\n",
    "            val[j] *= rsum\n",
    "            \n",
    "    if copy is True:\n",
    "        return mat"
   ]
  },
  {
   "cell_type": "code",
   "execution_count": 49,
   "metadata": {},
   "outputs": [],
   "source": [
    "dataset_csr = csr_l2normalize(dataset_csr, copy=True)"
   ]
  },
  {
   "cell_type": "code",
   "execution_count": 74,
   "metadata": {},
   "outputs": [],
   "source": [
    "from sklearn.feature_selection import SelectKBest\n",
    "from sklearn.feature_selection import chi2\n",
    "\n",
    "X_new = SelectKBest(chi2, k=30).fit_transform(dataset_csr, labels)"
   ]
  },
  {
   "cell_type": "code",
   "execution_count": 68,
   "metadata": {},
   "outputs": [
    {
     "name": "stdout",
     "output_type": "stream",
     "text": [
      "(41301, 4)\n"
     ]
    }
   ],
   "source": [
    "print X_new.shape"
   ]
  },
  {
   "cell_type": "code",
   "execution_count": 87,
   "metadata": {},
   "outputs": [
    {
     "name": "stdout",
     "output_type": "stream",
     "text": [
      "18420\n",
      "['4.5', '4.5', '2', '3', '3', '2.5', '3', '3', '2.5', '4']\n",
      "['4' '4' '3.5' '4.5' '3.5' '2.5' '3' '3' '2.5' '4']\n"
     ]
    }
   ],
   "source": [
    "from sklearn.ensemble import RandomForestClassifier\n",
    "\n",
    "clf = RandomForestClassifier(n_estimators=30)\n",
    "out = clf.fit(dataset_csr, labels).predict(dataset_csr)\n",
    "count = 0\n",
    "for i in range(len(labels)):\n",
    "    if labels[i] == out[i]:\n",
    "        count = count + 1\n",
    "print count\n",
    "print labels[0:10]\n",
    "print out[0:10]"
   ]
  },
  {
   "cell_type": "code",
   "execution_count": 88,
   "metadata": {},
   "outputs": [
    {
     "name": "stdout",
     "output_type": "stream",
     "text": [
      "0.445994043728\n",
      "41301\n"
     ]
    }
   ],
   "source": [
    "from sklearn.metrics import accuracy_score\n",
    "print accuracy_score(labels, out)\n",
    "print len(labels)"
   ]
  }
 ],
 "metadata": {
  "kernelspec": {
   "display_name": "Python 2",
   "language": "python",
   "name": "python2"
  },
  "language_info": {
   "codemirror_mode": {
    "name": "ipython",
    "version": 2
   },
   "file_extension": ".py",
   "mimetype": "text/x-python",
   "name": "python",
   "nbconvert_exporter": "python",
   "pygments_lexer": "ipython2",
   "version": "2.7.14"
  }
 },
 "nbformat": 4,
 "nbformat_minor": 2
}
